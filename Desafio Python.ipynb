{
 "cells": [
  {
   "cell_type": "markdown",
   "id": "0c439565",
   "metadata": {},
   "source": [
    "Para iniciar, vamos importar a biblioteca Pandas no Python para facilitar a análise dos dados.\n",
    "Além disso, vamos usar a função read_csv do pandas para acessar o arquivo CSV no Github."
   ]
  },
  {
   "cell_type": "code",
   "execution_count": 82,
   "id": "040c9599",
   "metadata": {},
   "outputs": [],
   "source": [
    "import pandas as pd\n",
    "\n",
    "df  = pd.read_csv(\"https://raw.githubusercontent.com/ricardojr98/desafio-sql/main/DB_Teste.csv\", sep = \";\", encoding=\"utf-8\")"
   ]
  },
  {
   "cell_type": "markdown",
   "id": "3ba8460e",
   "metadata": {},
   "source": [
    "Vamos utilizar os seguintes comandos para convertermos valores do formato string R$ XX.XXX,XX para o tipo float."
   ]
  },
  {
   "cell_type": "code",
   "execution_count": 72,
   "id": "71d79c8f",
   "metadata": {},
   "outputs": [],
   "source": [
    "df[\"Valor\"] = df[\"Valor\"].apply(lambda x: str(x).replace(\".\",\"\"))\n",
    "df[\"Valor\"] = df[\"Valor\"].apply(lambda x: str(x).replace(\"R$\",\"\"))\n",
    "df[\"Valor\"] = df[\"Valor\"].apply(lambda x: str(x).replace(\",\",\".\"))\n",
    "df[\"Valor\"] = df[\"Valor\"].astype(\"float64\")"
   ]
  },
  {
   "cell_type": "markdown",
   "id": "233ba335",
   "metadata": {},
   "source": [
    "Criando uma tabela auxiliar de nome vendas_vendedor, vamos preencher utilizando a função filter que seleciona as colunas \"Vendedor\" e \"Valor\"."
   ]
  },
  {
   "cell_type": "code",
   "execution_count": 73,
   "id": "b69859cb",
   "metadata": {},
   "outputs": [],
   "source": [
    "vendas_vendedor = df.filter(items=[\"Vendedor\", \"Valor\"])"
   ]
  },
  {
   "cell_type": "markdown",
   "id": "c02f6310",
   "metadata": {},
   "source": [
    "Utilizando-se da função groupby e da função sum, vamos agrupar a somatória dos valores de vendas por vendedor."
   ]
  },
  {
   "cell_type": "code",
   "execution_count": 74,
   "id": "0253233d",
   "metadata": {},
   "outputs": [],
   "source": [
    "vendas_vendedor = vendas_vendedor.groupby([\"Vendedor\"], as_index=False).sum()"
   ]
  },
  {
   "cell_type": "markdown",
   "id": "31b31acc",
   "metadata": {},
   "source": [
    "A função sort_values ordena os valores de vendas por Vendedor, colocamos ascending como False para ordenamos do maior para o menor"
   ]
  },
  {
   "cell_type": "code",
   "execution_count": 75,
   "id": "ac0d7f7f",
   "metadata": {},
   "outputs": [
    {
     "data": {
      "text/html": [
       "<div>\n",
       "<style scoped>\n",
       "    .dataframe tbody tr th:only-of-type {\n",
       "        vertical-align: middle;\n",
       "    }\n",
       "\n",
       "    .dataframe tbody tr th {\n",
       "        vertical-align: top;\n",
       "    }\n",
       "\n",
       "    .dataframe thead th {\n",
       "        text-align: right;\n",
       "    }\n",
       "</style>\n",
       "<table border=\"1\" class=\"dataframe\">\n",
       "  <thead>\n",
       "    <tr style=\"text-align: right;\">\n",
       "      <th></th>\n",
       "      <th>Vendedor</th>\n",
       "      <th>Valor</th>\n",
       "    </tr>\n",
       "  </thead>\n",
       "  <tbody>\n",
       "    <tr>\n",
       "      <th>22</th>\n",
       "      <td>Vendedor 3</td>\n",
       "      <td>9.076707e+10</td>\n",
       "    </tr>\n",
       "    <tr>\n",
       "      <th>1</th>\n",
       "      <td>Vendedor 10</td>\n",
       "      <td>3.227204e+10</td>\n",
       "    </tr>\n",
       "    <tr>\n",
       "      <th>0</th>\n",
       "      <td>Vendedor 1</td>\n",
       "      <td>2.002734e+10</td>\n",
       "    </tr>\n",
       "    <tr>\n",
       "      <th>21</th>\n",
       "      <td>Vendedor 29</td>\n",
       "      <td>1.856967e+10</td>\n",
       "    </tr>\n",
       "    <tr>\n",
       "      <th>28</th>\n",
       "      <td>Vendedor 8</td>\n",
       "      <td>1.597673e+10</td>\n",
       "    </tr>\n",
       "    <tr>\n",
       "      <th>4</th>\n",
       "      <td>Vendedor 13</td>\n",
       "      <td>1.588746e+10</td>\n",
       "    </tr>\n",
       "    <tr>\n",
       "      <th>29</th>\n",
       "      <td>Vendedor 9</td>\n",
       "      <td>1.559958e+10</td>\n",
       "    </tr>\n",
       "    <tr>\n",
       "      <th>9</th>\n",
       "      <td>Vendedor 18</td>\n",
       "      <td>1.507744e+10</td>\n",
       "    </tr>\n",
       "    <tr>\n",
       "      <th>27</th>\n",
       "      <td>Vendedor 7</td>\n",
       "      <td>1.480929e+10</td>\n",
       "    </tr>\n",
       "    <tr>\n",
       "      <th>24</th>\n",
       "      <td>Vendedor 4</td>\n",
       "      <td>6.232153e+09</td>\n",
       "    </tr>\n",
       "    <tr>\n",
       "      <th>5</th>\n",
       "      <td>Vendedor 14</td>\n",
       "      <td>5.127225e+09</td>\n",
       "    </tr>\n",
       "    <tr>\n",
       "      <th>7</th>\n",
       "      <td>Vendedor 16</td>\n",
       "      <td>3.915925e+09</td>\n",
       "    </tr>\n",
       "    <tr>\n",
       "      <th>12</th>\n",
       "      <td>Vendedor 20</td>\n",
       "      <td>3.404884e+09</td>\n",
       "    </tr>\n",
       "    <tr>\n",
       "      <th>20</th>\n",
       "      <td>Vendedor 28</td>\n",
       "      <td>3.307138e+09</td>\n",
       "    </tr>\n",
       "    <tr>\n",
       "      <th>11</th>\n",
       "      <td>Vendedor 2</td>\n",
       "      <td>2.732674e+09</td>\n",
       "    </tr>\n",
       "    <tr>\n",
       "      <th>26</th>\n",
       "      <td>Vendedor 6</td>\n",
       "      <td>2.274030e+09</td>\n",
       "    </tr>\n",
       "    <tr>\n",
       "      <th>3</th>\n",
       "      <td>Vendedor 12</td>\n",
       "      <td>1.471128e+09</td>\n",
       "    </tr>\n",
       "    <tr>\n",
       "      <th>10</th>\n",
       "      <td>Vendedor 19</td>\n",
       "      <td>6.513184e+08</td>\n",
       "    </tr>\n",
       "    <tr>\n",
       "      <th>23</th>\n",
       "      <td>Vendedor 30</td>\n",
       "      <td>5.154468e+08</td>\n",
       "    </tr>\n",
       "    <tr>\n",
       "      <th>15</th>\n",
       "      <td>Vendedor 23</td>\n",
       "      <td>2.412469e+08</td>\n",
       "    </tr>\n",
       "    <tr>\n",
       "      <th>14</th>\n",
       "      <td>Vendedor 22</td>\n",
       "      <td>2.150000e+08</td>\n",
       "    </tr>\n",
       "    <tr>\n",
       "      <th>13</th>\n",
       "      <td>Vendedor 21</td>\n",
       "      <td>1.943240e+08</td>\n",
       "    </tr>\n",
       "    <tr>\n",
       "      <th>8</th>\n",
       "      <td>Vendedor 17</td>\n",
       "      <td>1.842090e+08</td>\n",
       "    </tr>\n",
       "    <tr>\n",
       "      <th>2</th>\n",
       "      <td>Vendedor 11</td>\n",
       "      <td>1.763716e+08</td>\n",
       "    </tr>\n",
       "    <tr>\n",
       "      <th>25</th>\n",
       "      <td>Vendedor 5</td>\n",
       "      <td>9.139000e+07</td>\n",
       "    </tr>\n",
       "    <tr>\n",
       "      <th>6</th>\n",
       "      <td>Vendedor 15</td>\n",
       "      <td>8.650461e+07</td>\n",
       "    </tr>\n",
       "    <tr>\n",
       "      <th>16</th>\n",
       "      <td>Vendedor 24</td>\n",
       "      <td>5.839700e+07</td>\n",
       "    </tr>\n",
       "    <tr>\n",
       "      <th>19</th>\n",
       "      <td>Vendedor 27</td>\n",
       "      <td>4.200000e+07</td>\n",
       "    </tr>\n",
       "    <tr>\n",
       "      <th>18</th>\n",
       "      <td>Vendedor 26</td>\n",
       "      <td>3.840000e+07</td>\n",
       "    </tr>\n",
       "    <tr>\n",
       "      <th>17</th>\n",
       "      <td>Vendedor 25</td>\n",
       "      <td>4.053200e+06</td>\n",
       "    </tr>\n",
       "  </tbody>\n",
       "</table>\n",
       "</div>"
      ],
      "text/plain": [
       "       Vendedor         Valor\n",
       "22   Vendedor 3  9.076707e+10\n",
       "1   Vendedor 10  3.227204e+10\n",
       "0    Vendedor 1  2.002734e+10\n",
       "21  Vendedor 29  1.856967e+10\n",
       "28   Vendedor 8  1.597673e+10\n",
       "4   Vendedor 13  1.588746e+10\n",
       "29   Vendedor 9  1.559958e+10\n",
       "9   Vendedor 18  1.507744e+10\n",
       "27   Vendedor 7  1.480929e+10\n",
       "24   Vendedor 4  6.232153e+09\n",
       "5   Vendedor 14  5.127225e+09\n",
       "7   Vendedor 16  3.915925e+09\n",
       "12  Vendedor 20  3.404884e+09\n",
       "20  Vendedor 28  3.307138e+09\n",
       "11   Vendedor 2  2.732674e+09\n",
       "26   Vendedor 6  2.274030e+09\n",
       "3   Vendedor 12  1.471128e+09\n",
       "10  Vendedor 19  6.513184e+08\n",
       "23  Vendedor 30  5.154468e+08\n",
       "15  Vendedor 23  2.412469e+08\n",
       "14  Vendedor 22  2.150000e+08\n",
       "13  Vendedor 21  1.943240e+08\n",
       "8   Vendedor 17  1.842090e+08\n",
       "2   Vendedor 11  1.763716e+08\n",
       "25   Vendedor 5  9.139000e+07\n",
       "6   Vendedor 15  8.650461e+07\n",
       "16  Vendedor 24  5.839700e+07\n",
       "19  Vendedor 27  4.200000e+07\n",
       "18  Vendedor 26  3.840000e+07\n",
       "17  Vendedor 25  4.053200e+06"
      ]
     },
     "execution_count": 75,
     "metadata": {},
     "output_type": "execute_result"
    }
   ],
   "source": [
    "vendas_vendedor.sort_values(\"Valor\", ascending = False)"
   ]
  },
  {
   "cell_type": "markdown",
   "id": "e360ccfd",
   "metadata": {},
   "source": [
    "Vamos utilizar as funções idxmax() e idxmin() para identificarmos os valores de maior e menor valor respectivamente, na coluna cliente."
   ]
  },
  {
   "cell_type": "code",
   "execution_count": 76,
   "id": "4c4e74f8",
   "metadata": {},
   "outputs": [],
   "source": [
    "cliente_maior_venda = df[\"Cliente\"][df[\"Valor\"].idxmax()]\n",
    "valor_maior_venda = df[\"Valor\"][df[\"Valor\"].idxmax()]\n",
    "cliente_menor_venda = df[\"Cliente\"][df[\"Valor\"].idxmin()]\n",
    "valor_menor_venda = df[\"Valor\"][df[\"Valor\"].idxmin()]"
   ]
  },
  {
   "cell_type": "markdown",
   "id": "56c7a6f1",
   "metadata": {},
   "source": [
    "Vamos formatar os valores encontrados nas variáveis para a saída no padrão R$ XX.XXX,XX utilizando as funções format e replace"
   ]
  },
  {
   "cell_type": "code",
   "execution_count": 77,
   "id": "7953460b",
   "metadata": {},
   "outputs": [],
   "source": [
    "valor_maior_venda_monetario = \"R$ {:,.2f}\".format(valor_maior_venda).replace(\".\", \",\").replace(\",\", \".\", 1).replace(\",\", \".\", 1)\n",
    "valor_menor_venda_monetario = \"R$ {:,.2f}\".format(valor_menor_venda).replace(\".\", \",\").replace(\",\", \".\", 1)"
   ]
  },
  {
   "cell_type": "markdown",
   "id": "368ec3ac",
   "metadata": {},
   "source": [
    "Imprimindo os resultados encontrados:"
   ]
  },
  {
   "cell_type": "code",
   "execution_count": 78,
   "id": "7f7f8756",
   "metadata": {},
   "outputs": [
    {
     "name": "stdout",
     "output_type": "stream",
     "text": [
      "Cliente com maior venda: Cliente 21 no valor de: R$ 18.192.880,380,00 , e cliente com menor venda: Cliente 120 no valor de: R$ 125.000,00\n"
     ]
    }
   ],
   "source": [
    "print(\"Cliente com maior venda:\", cliente_maior_venda, \"no valor de:\", valor_maior_venda_monetario, \", e cliente com menor venda:\", cliente_menor_venda, \"no valor de:\", valor_menor_venda_monetario)"
   ]
  },
  {
   "cell_type": "markdown",
   "id": "284efbf2",
   "metadata": {},
   "source": [
    "Vamos filtrar os tipos de venda na coluna \"Tipo\" utilizando a função filtes, e encontrar o valor médio da coluna \"Valor\" utilizando a função mean."
   ]
  },
  {
   "cell_type": "code",
   "execution_count": 79,
   "id": "34a25945",
   "metadata": {},
   "outputs": [],
   "source": [
    "mediatipo = df.filter(items=[\"Tipo\",\"Valor\"])\n",
    "mediatipo = mediatipo.groupby(\"Tipo\").mean()"
   ]
  },
  {
   "cell_type": "markdown",
   "id": "f0050943",
   "metadata": {},
   "source": [
    "Utilizando-se da função apply e format, vamos aplicar a formatação no padrão R$ XX.XXX,XX"
   ]
  },
  {
   "cell_type": "code",
   "execution_count": 80,
   "id": "f61c5421",
   "metadata": {},
   "outputs": [
    {
     "data": {
      "text/plain": [
       "Tipo\n",
       "Licenciamento    R$ 640.335.850,25\n",
       "Produtos         R$ 318.582.463,01\n",
       "Serviços         R$ 145.721.995,34\n",
       "Name: Valor, dtype: object"
      ]
     },
     "execution_count": 80,
     "metadata": {},
     "output_type": "execute_result"
    }
   ],
   "source": [
    "mediatipo[\"Valor\"].apply(lambda x: \"R$ {:,.2f}\".format(x).replace(\".\", \"-\").replace(\",\", \".\").replace(\"-\", \",\"))"
   ]
  },
  {
   "cell_type": "markdown",
   "id": "e7b1aefe",
   "metadata": {},
   "source": [
    "Para imprimir o número de vendas por cliente, vamos filtrar as colunas \"Cliente\" e \"ID\" e utilizar da função count() para contarmos o número de IDs de vendas por cliente"
   ]
  },
  {
   "cell_type": "code",
   "execution_count": 81,
   "id": "e2108eb2",
   "metadata": {},
   "outputs": [
    {
     "name": "stdout",
     "output_type": "stream",
     "text": [
      "             ID\n",
      "Cliente        \n",
      "Cliente 1     1\n",
      "Cliente 10   43\n",
      "Cliente 100   1\n",
      "Cliente 101   2\n",
      "Cliente 102   1\n",
      "...          ..\n",
      "Cliente 95    1\n",
      "Cliente 96    4\n",
      "Cliente 97    1\n",
      "Cliente 98    1\n",
      "Cliente 99    1\n",
      "\n",
      "[157 rows x 1 columns]\n"
     ]
    }
   ],
   "source": [
    "vendas_cliente = df.filter(items=[\"Cliente\",\"ID\"])\n",
    "vendas_cliente = vendas_cliente.groupby(\"Cliente\").count()\n",
    "print(vendas_cliente)"
   ]
  }
 ],
 "metadata": {
  "kernelspec": {
   "display_name": "Python 3 (ipykernel)",
   "language": "python",
   "name": "python3"
  },
  "language_info": {
   "codemirror_mode": {
    "name": "ipython",
    "version": 3
   },
   "file_extension": ".py",
   "mimetype": "text/x-python",
   "name": "python",
   "nbconvert_exporter": "python",
   "pygments_lexer": "ipython3",
   "version": "3.9.13"
  }
 },
 "nbformat": 4,
 "nbformat_minor": 5
}
